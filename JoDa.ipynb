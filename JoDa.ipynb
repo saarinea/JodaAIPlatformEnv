{
 "cells": [
  {
   "cell_type": "markdown",
   "metadata": {},
   "source": [
    "The goal is to find the characteristics that contribute to the price of an apartment and create an alarm which sends \n",
    "an automated email if an apartment comes up with a lower price than it should be."
   ]
  },
  {
   "cell_type": "code",
   "execution_count": 13,
   "metadata": {},
   "outputs": [],
   "source": [
    "from selenium import webdriver\n",
    "\n",
    "chromeOptions = webdriver.ChromeOptions()\n",
    "chromeOptions.add_argument('--headless')\n",
    "chromeOptions.add_argument('--no-sandbox')\n",
    "chromeOptions.add_argument('--disable-dev-shm-usage')\n",
    "\n",
    "browser = webdriver.Chrome(options=chromeOptions)"
   ]
  }
 ],
 "metadata": {
  "kernelspec": {
   "display_name": "Python 3",
   "language": "python",
   "name": "python3"
  },
  "language_info": {
   "codemirror_mode": {
    "name": "ipython",
    "version": 3
   },
   "file_extension": ".py",
   "mimetype": "text/x-python",
   "name": "python",
   "nbconvert_exporter": "python",
   "pygments_lexer": "ipython3",
   "version": "3.7.6"
  }
 },
 "nbformat": 4,
 "nbformat_minor": 4
}
